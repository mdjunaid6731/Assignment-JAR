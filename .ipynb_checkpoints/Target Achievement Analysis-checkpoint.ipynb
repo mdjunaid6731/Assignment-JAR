{
 "cells": [
  {
   "cell_type": "markdown",
   "id": "bcad8c31-9721-47b5-b259-e249d874248f",
   "metadata": {},
   "source": [
    "<h1>Part 2: Target Achievement Analysis</h1>"
   ]
  },
  {
   "cell_type": "code",
   "execution_count": 1,
   "id": "9f9b0884-250e-4747-834e-175d92eab4ca",
   "metadata": {},
   "outputs": [],
   "source": [
    "import numpy as np\n",
    "import pandas as pd\n",
    "import seaborn as sns\n",
    "import matplotlib.pyplot as plt"
   ]
  },
  {
   "cell_type": "code",
   "execution_count": 2,
   "id": "cebb0adb-0e32-46de-b8a3-21fe018d2a8b",
   "metadata": {},
   "outputs": [],
   "source": [
    "Sales_Target = pd.read_csv(\"DATASET/Sales_target_DD2E9B96A0.csv\")"
   ]
  },
  {
   "cell_type": "code",
   "execution_count": 8,
   "id": "d164d068-1562-4267-a4c0-61e703e720a6",
   "metadata": {},
   "outputs": [
    {
     "data": {
      "text/html": [
       "<div>\n",
       "<style scoped>\n",
       "    .dataframe tbody tr th:only-of-type {\n",
       "        vertical-align: middle;\n",
       "    }\n",
       "\n",
       "    .dataframe tbody tr th {\n",
       "        vertical-align: top;\n",
       "    }\n",
       "\n",
       "    .dataframe thead th {\n",
       "        text-align: right;\n",
       "    }\n",
       "</style>\n",
       "<table border=\"1\" class=\"dataframe\">\n",
       "  <thead>\n",
       "    <tr style=\"text-align: right;\">\n",
       "      <th></th>\n",
       "      <th>Month of Order Date</th>\n",
       "      <th>Category</th>\n",
       "      <th>Target</th>\n",
       "    </tr>\n",
       "  </thead>\n",
       "  <tbody>\n",
       "    <tr>\n",
       "      <th>0</th>\n",
       "      <td>Apr-18</td>\n",
       "      <td>Furniture</td>\n",
       "      <td>10400.0</td>\n",
       "    </tr>\n",
       "    <tr>\n",
       "      <th>1</th>\n",
       "      <td>May-18</td>\n",
       "      <td>Furniture</td>\n",
       "      <td>10500.0</td>\n",
       "    </tr>\n",
       "    <tr>\n",
       "      <th>2</th>\n",
       "      <td>Jun-18</td>\n",
       "      <td>Furniture</td>\n",
       "      <td>10600.0</td>\n",
       "    </tr>\n",
       "    <tr>\n",
       "      <th>3</th>\n",
       "      <td>Jul-18</td>\n",
       "      <td>Furniture</td>\n",
       "      <td>10800.0</td>\n",
       "    </tr>\n",
       "    <tr>\n",
       "      <th>4</th>\n",
       "      <td>Aug-18</td>\n",
       "      <td>Furniture</td>\n",
       "      <td>10900.0</td>\n",
       "    </tr>\n",
       "  </tbody>\n",
       "</table>\n",
       "</div>"
      ],
      "text/plain": [
       "  Month of Order Date   Category   Target\n",
       "0              Apr-18  Furniture  10400.0\n",
       "1              May-18  Furniture  10500.0\n",
       "2              Jun-18  Furniture  10600.0\n",
       "3              Jul-18  Furniture  10800.0\n",
       "4              Aug-18  Furniture  10900.0"
      ]
     },
     "execution_count": 8,
     "metadata": {},
     "output_type": "execute_result"
    }
   ],
   "source": [
    "Sales_Target.head()"
   ]
  },
  {
   "cell_type": "code",
   "execution_count": 6,
   "id": "d152cb9b-21ae-4a79-890a-16c34b171781",
   "metadata": {},
   "outputs": [
    {
     "name": "stdout",
     "output_type": "stream",
     "text": [
      "<class 'pandas.core.frame.DataFrame'>\n",
      "RangeIndex: 36 entries, 0 to 35\n",
      "Data columns (total 3 columns):\n",
      " #   Column               Non-Null Count  Dtype  \n",
      "---  ------               --------------  -----  \n",
      " 0   Month of Order Date  36 non-null     object \n",
      " 1   Category             36 non-null     object \n",
      " 2   Target               36 non-null     float64\n",
      "dtypes: float64(1), object(2)\n",
      "memory usage: 996.0+ bytes\n"
     ]
    }
   ],
   "source": [
    "Sales_Target.info()"
   ]
  },
  {
   "cell_type": "code",
   "execution_count": 9,
   "id": "d1311c3b-8487-4c4f-926a-8671d31b5043",
   "metadata": {},
   "outputs": [],
   "source": [
    "# Converting 'Month of Order Date' to datetime format\n",
    "Sales_Target[\"Month of Order Date\"] = pd.to_datetime(Sales_Target[\"Month of Order Date\"], format=\"%b-%y\")"
   ]
  },
  {
   "cell_type": "code",
   "execution_count": 10,
   "id": "65d82bce-fa13-40fe-8f35-40c35fdfbdd4",
   "metadata": {},
   "outputs": [
    {
     "data": {
      "text/html": [
       "<div>\n",
       "<style scoped>\n",
       "    .dataframe tbody tr th:only-of-type {\n",
       "        vertical-align: middle;\n",
       "    }\n",
       "\n",
       "    .dataframe tbody tr th {\n",
       "        vertical-align: top;\n",
       "    }\n",
       "\n",
       "    .dataframe thead th {\n",
       "        text-align: right;\n",
       "    }\n",
       "</style>\n",
       "<table border=\"1\" class=\"dataframe\">\n",
       "  <thead>\n",
       "    <tr style=\"text-align: right;\">\n",
       "      <th></th>\n",
       "      <th>Month of Order Date</th>\n",
       "      <th>Category</th>\n",
       "      <th>Target</th>\n",
       "    </tr>\n",
       "  </thead>\n",
       "  <tbody>\n",
       "    <tr>\n",
       "      <th>0</th>\n",
       "      <td>2018-04-01</td>\n",
       "      <td>Furniture</td>\n",
       "      <td>10400.0</td>\n",
       "    </tr>\n",
       "    <tr>\n",
       "      <th>1</th>\n",
       "      <td>2018-05-01</td>\n",
       "      <td>Furniture</td>\n",
       "      <td>10500.0</td>\n",
       "    </tr>\n",
       "    <tr>\n",
       "      <th>2</th>\n",
       "      <td>2018-06-01</td>\n",
       "      <td>Furniture</td>\n",
       "      <td>10600.0</td>\n",
       "    </tr>\n",
       "    <tr>\n",
       "      <th>3</th>\n",
       "      <td>2018-07-01</td>\n",
       "      <td>Furniture</td>\n",
       "      <td>10800.0</td>\n",
       "    </tr>\n",
       "    <tr>\n",
       "      <th>4</th>\n",
       "      <td>2018-08-01</td>\n",
       "      <td>Furniture</td>\n",
       "      <td>10900.0</td>\n",
       "    </tr>\n",
       "  </tbody>\n",
       "</table>\n",
       "</div>"
      ],
      "text/plain": [
       "  Month of Order Date   Category   Target\n",
       "0          2018-04-01  Furniture  10400.0\n",
       "1          2018-05-01  Furniture  10500.0\n",
       "2          2018-06-01  Furniture  10600.0\n",
       "3          2018-07-01  Furniture  10800.0\n",
       "4          2018-08-01  Furniture  10900.0"
      ]
     },
     "execution_count": 10,
     "metadata": {},
     "output_type": "execute_result"
    }
   ],
   "source": [
    "Sales_Target.head()"
   ]
  },
  {
   "cell_type": "markdown",
   "id": "33c3acdf-6590-4810-bd3b-f472c8079335",
   "metadata": {},
   "source": [
    "<h3>(a) Using the Sales Target dataset, calculate the percentage change in target sales\n",
    "for the Furniture category month-over-month.</h3>"
   ]
  },
  {
   "cell_type": "code",
   "execution_count": 12,
   "id": "7d84c644-43ea-4e01-ae32-b253c4ec49da",
   "metadata": {},
   "outputs": [],
   "source": [
    "# Getting only 'Furniture' category\n",
    "furniture_df = Sales_Target[Sales_Target[\"Category\"] == \"Furniture\"].copy()"
   ]
  },
  {
   "cell_type": "code",
   "execution_count": 13,
   "id": "fd8c3fcb-c786-4e83-8082-d6eb2f6b65aa",
   "metadata": {},
   "outputs": [
    {
     "data": {
      "text/html": [
       "<div>\n",
       "<style scoped>\n",
       "    .dataframe tbody tr th:only-of-type {\n",
       "        vertical-align: middle;\n",
       "    }\n",
       "\n",
       "    .dataframe tbody tr th {\n",
       "        vertical-align: top;\n",
       "    }\n",
       "\n",
       "    .dataframe thead th {\n",
       "        text-align: right;\n",
       "    }\n",
       "</style>\n",
       "<table border=\"1\" class=\"dataframe\">\n",
       "  <thead>\n",
       "    <tr style=\"text-align: right;\">\n",
       "      <th></th>\n",
       "      <th>Month of Order Date</th>\n",
       "      <th>Category</th>\n",
       "      <th>Target</th>\n",
       "    </tr>\n",
       "  </thead>\n",
       "  <tbody>\n",
       "    <tr>\n",
       "      <th>0</th>\n",
       "      <td>2018-04-01</td>\n",
       "      <td>Furniture</td>\n",
       "      <td>10400.0</td>\n",
       "    </tr>\n",
       "    <tr>\n",
       "      <th>1</th>\n",
       "      <td>2018-05-01</td>\n",
       "      <td>Furniture</td>\n",
       "      <td>10500.0</td>\n",
       "    </tr>\n",
       "    <tr>\n",
       "      <th>2</th>\n",
       "      <td>2018-06-01</td>\n",
       "      <td>Furniture</td>\n",
       "      <td>10600.0</td>\n",
       "    </tr>\n",
       "    <tr>\n",
       "      <th>3</th>\n",
       "      <td>2018-07-01</td>\n",
       "      <td>Furniture</td>\n",
       "      <td>10800.0</td>\n",
       "    </tr>\n",
       "    <tr>\n",
       "      <th>4</th>\n",
       "      <td>2018-08-01</td>\n",
       "      <td>Furniture</td>\n",
       "      <td>10900.0</td>\n",
       "    </tr>\n",
       "    <tr>\n",
       "      <th>5</th>\n",
       "      <td>2018-09-01</td>\n",
       "      <td>Furniture</td>\n",
       "      <td>11000.0</td>\n",
       "    </tr>\n",
       "    <tr>\n",
       "      <th>6</th>\n",
       "      <td>2018-10-01</td>\n",
       "      <td>Furniture</td>\n",
       "      <td>11100.0</td>\n",
       "    </tr>\n",
       "    <tr>\n",
       "      <th>7</th>\n",
       "      <td>2018-11-01</td>\n",
       "      <td>Furniture</td>\n",
       "      <td>11300.0</td>\n",
       "    </tr>\n",
       "    <tr>\n",
       "      <th>8</th>\n",
       "      <td>2018-12-01</td>\n",
       "      <td>Furniture</td>\n",
       "      <td>11400.0</td>\n",
       "    </tr>\n",
       "    <tr>\n",
       "      <th>9</th>\n",
       "      <td>2019-01-01</td>\n",
       "      <td>Furniture</td>\n",
       "      <td>11500.0</td>\n",
       "    </tr>\n",
       "    <tr>\n",
       "      <th>10</th>\n",
       "      <td>2019-02-01</td>\n",
       "      <td>Furniture</td>\n",
       "      <td>11600.0</td>\n",
       "    </tr>\n",
       "    <tr>\n",
       "      <th>11</th>\n",
       "      <td>2019-03-01</td>\n",
       "      <td>Furniture</td>\n",
       "      <td>11800.0</td>\n",
       "    </tr>\n",
       "  </tbody>\n",
       "</table>\n",
       "</div>"
      ],
      "text/plain": [
       "   Month of Order Date   Category   Target\n",
       "0           2018-04-01  Furniture  10400.0\n",
       "1           2018-05-01  Furniture  10500.0\n",
       "2           2018-06-01  Furniture  10600.0\n",
       "3           2018-07-01  Furniture  10800.0\n",
       "4           2018-08-01  Furniture  10900.0\n",
       "5           2018-09-01  Furniture  11000.0\n",
       "6           2018-10-01  Furniture  11100.0\n",
       "7           2018-11-01  Furniture  11300.0\n",
       "8           2018-12-01  Furniture  11400.0\n",
       "9           2019-01-01  Furniture  11500.0\n",
       "10          2019-02-01  Furniture  11600.0\n",
       "11          2019-03-01  Furniture  11800.0"
      ]
     },
     "execution_count": 13,
     "metadata": {},
     "output_type": "execute_result"
    }
   ],
   "source": [
    "furniture_df"
   ]
  },
  {
   "cell_type": "code",
   "execution_count": 22,
   "id": "224f5260-e676-4127-b816-e8bfb158fd61",
   "metadata": {},
   "outputs": [
    {
     "data": {
      "text/html": [
       "<div>\n",
       "<style scoped>\n",
       "    .dataframe tbody tr th:only-of-type {\n",
       "        vertical-align: middle;\n",
       "    }\n",
       "\n",
       "    .dataframe tbody tr th {\n",
       "        vertical-align: top;\n",
       "    }\n",
       "\n",
       "    .dataframe thead th {\n",
       "        text-align: right;\n",
       "    }\n",
       "</style>\n",
       "<table border=\"1\" class=\"dataframe\">\n",
       "  <thead>\n",
       "    <tr style=\"text-align: right;\">\n",
       "      <th></th>\n",
       "      <th>Month of Order Date</th>\n",
       "      <th>Category</th>\n",
       "      <th>Target</th>\n",
       "      <th>Percentage Change</th>\n",
       "    </tr>\n",
       "  </thead>\n",
       "  <tbody>\n",
       "    <tr>\n",
       "      <th>0</th>\n",
       "      <td>2018-04-01</td>\n",
       "      <td>Furniture</td>\n",
       "      <td>10400.0</td>\n",
       "      <td>NaN</td>\n",
       "    </tr>\n",
       "    <tr>\n",
       "      <th>1</th>\n",
       "      <td>2018-05-01</td>\n",
       "      <td>Furniture</td>\n",
       "      <td>10500.0</td>\n",
       "      <td>0.961538</td>\n",
       "    </tr>\n",
       "    <tr>\n",
       "      <th>2</th>\n",
       "      <td>2018-06-01</td>\n",
       "      <td>Furniture</td>\n",
       "      <td>10600.0</td>\n",
       "      <td>0.952381</td>\n",
       "    </tr>\n",
       "    <tr>\n",
       "      <th>3</th>\n",
       "      <td>2018-07-01</td>\n",
       "      <td>Furniture</td>\n",
       "      <td>10800.0</td>\n",
       "      <td>1.886792</td>\n",
       "    </tr>\n",
       "    <tr>\n",
       "      <th>4</th>\n",
       "      <td>2018-08-01</td>\n",
       "      <td>Furniture</td>\n",
       "      <td>10900.0</td>\n",
       "      <td>0.925926</td>\n",
       "    </tr>\n",
       "    <tr>\n",
       "      <th>5</th>\n",
       "      <td>2018-09-01</td>\n",
       "      <td>Furniture</td>\n",
       "      <td>11000.0</td>\n",
       "      <td>0.917431</td>\n",
       "    </tr>\n",
       "    <tr>\n",
       "      <th>6</th>\n",
       "      <td>2018-10-01</td>\n",
       "      <td>Furniture</td>\n",
       "      <td>11100.0</td>\n",
       "      <td>0.909091</td>\n",
       "    </tr>\n",
       "    <tr>\n",
       "      <th>7</th>\n",
       "      <td>2018-11-01</td>\n",
       "      <td>Furniture</td>\n",
       "      <td>11300.0</td>\n",
       "      <td>1.801802</td>\n",
       "    </tr>\n",
       "    <tr>\n",
       "      <th>8</th>\n",
       "      <td>2018-12-01</td>\n",
       "      <td>Furniture</td>\n",
       "      <td>11400.0</td>\n",
       "      <td>0.884956</td>\n",
       "    </tr>\n",
       "    <tr>\n",
       "      <th>9</th>\n",
       "      <td>2019-01-01</td>\n",
       "      <td>Furniture</td>\n",
       "      <td>11500.0</td>\n",
       "      <td>0.877193</td>\n",
       "    </tr>\n",
       "    <tr>\n",
       "      <th>10</th>\n",
       "      <td>2019-02-01</td>\n",
       "      <td>Furniture</td>\n",
       "      <td>11600.0</td>\n",
       "      <td>0.869565</td>\n",
       "    </tr>\n",
       "    <tr>\n",
       "      <th>11</th>\n",
       "      <td>2019-03-01</td>\n",
       "      <td>Furniture</td>\n",
       "      <td>11800.0</td>\n",
       "      <td>1.724138</td>\n",
       "    </tr>\n",
       "  </tbody>\n",
       "</table>\n",
       "</div>"
      ],
      "text/plain": [
       "   Month of Order Date   Category   Target  Percentage Change\n",
       "0           2018-04-01  Furniture  10400.0                NaN\n",
       "1           2018-05-01  Furniture  10500.0           0.961538\n",
       "2           2018-06-01  Furniture  10600.0           0.952381\n",
       "3           2018-07-01  Furniture  10800.0           1.886792\n",
       "4           2018-08-01  Furniture  10900.0           0.925926\n",
       "5           2018-09-01  Furniture  11000.0           0.917431\n",
       "6           2018-10-01  Furniture  11100.0           0.909091\n",
       "7           2018-11-01  Furniture  11300.0           1.801802\n",
       "8           2018-12-01  Furniture  11400.0           0.884956\n",
       "9           2019-01-01  Furniture  11500.0           0.877193\n",
       "10          2019-02-01  Furniture  11600.0           0.869565\n",
       "11          2019-03-01  Furniture  11800.0           1.724138"
      ]
     },
     "execution_count": 22,
     "metadata": {},
     "output_type": "execute_result"
    }
   ],
   "source": [
    "# Calculating month-over-month percentage change\n",
    "furniture_df[\"Percentage Change\"] = furniture_df[\"Target\"].pct_change()*100 #The pct_change() is Pandas fuct that calculates the percentage change between the current and previous row \n",
    "furniture_df"
   ]
  },
  {
   "cell_type": "code",
   "execution_count": 28,
   "id": "65f782be-0e80-49bd-8912-c4781d003458",
   "metadata": {},
   "outputs": [
    {
     "data": {
      "image/png": "[encoded data removed]",
      "text/plain": [
       "<Figure size 1000x500 with 1 Axes>"
      ]
     },
     "metadata": {},
     "output_type": "display_data"
    }
   ],
   "source": [
    "# point plot\n",
    "plt.figure(figsize=(10, 5))\n",
    "sns.pointplot(x=furniture_df['Month of Order Date'], y=furniture_df[\"Percentage Change\"], color='blue', marker='o')\n",
    "\n",
    "# Add values on points\n",
    "for i, val in enumerate(furniture_df[\"Percentage Change\"]):\n",
    "    if not pd.isna(val):  # Skip NaN\n",
    "        plt.text(i, val, f\"{val:.2f}%\", ha='center', va='bottom', fontsize=10)\n",
    "\n",
    "plt.xlabel('Month')\n",
    "plt.ylabel('Percentage Change')\n",
    "plt.title('Month-over-Month % Change in Furniture Sales')\n",
    "plt.xticks(rotation=45)\n",
    "plt.grid(axis='y', linestyle='--', alpha=0.7)\n",
    "plt.show()"
   ]
  },
  {
   "cell_type": "markdown",
   "id": "75ad1b2c-98f4-4fb9-b6e6-c81abd57f3f7",
   "metadata": {},
   "source": [
    "<p>Conclusion: There is high % change in every 3 months, which determines the month july, nov and march has modrate jump in target sales for the furniture category</p>"
   ]
  },
  {
   "cell_type": "markdown",
   "id": "d13f0418-1d87-4534-b238-26f5f2a2e5a6",
   "metadata": {},
   "source": [
    "<h3>(b) Analyse the trends to identify months with significant target fluctuations.\n",
    "Suggest strategies for aligning target expectations with actual performance\n",
    "trends.</h3>"
   ]
  },
  {
   "cell_type": "markdown",
   "id": "410ba640-9aa6-4094-a38d-ee0a5a2417c3",
   "metadata": {},
   "source": [
    "<h2>Target Sales Analysis</h2>\n",
    "    <table>\n",
    "        <tr>\n",
    "            <th>Month</th>\n",
    "            <th>% Change(MoM)</th>\n",
    "            <th>Observation</th>\n",
    "        </tr>\n",
    "        <tr><td>Apr-18</td><td>-</td><td>Initial Month</td></tr>\n",
    "        <tr><td>May-18</td><td>0.96%</td><td>Slight increase</td></tr>\n",
    "        <tr><td>Jun-18</td><td>0.95%</td><td>Stable growth</td></tr>\n",
    "        <tr><td>Jul-18</td><td>1.89%</td><td>Moderate rise</td></tr>\n",
    "        <tr><td>Aug-18</td><td>0.93%</td><td>Consistent growth</td></tr>\n",
    "        <tr><td>Sep-18</td><td>0.92%</td><td>Stable trend</td></tr>\n",
    "        <tr><td>Oct-18</td><td>0.91%</td><td>Steady increase</td></tr>\n",
    "        <tr><td>Nov-18</td><td>1.80%</td><td>Noticeable jump</td></tr>\n",
    "        <tr><td>Dec-18</td><td>0.88%</td><td>Growth stabilizing</td></tr>\n",
    "        <tr><td>Jan-19</td><td>0.88%</td><td>Slow but steady</td></tr>\n",
    "        <tr><td>Feb-19</td><td>0.87%</td><td>Minimal change</td></tr>\n",
    "        <tr><td>Mar-19</td><td>1.72%</td><td>Higher increase</td></tr>\n",
    "    </table>"
   ]
  },
  {
   "cell_type": "markdown",
   "id": "5c52825c-b113-448a-bbf6-226dbf2b2e34",
   "metadata": {},
   "source": [
    "<ul>\n",
    "    <li>Significant jumps in July-18, Nov-18, and Mar-19 (~1.8%-1.9%) indicate peak demand periods.</li>\n",
    "    <li>Stable growth (~0.9%-1%) in most months, meaning the market is steady and predictable.</li>\n",
    "    <li>Slower growth from Jan-19 to Feb-19 (~0.87%), possibly due to seasonal trends.</li>\n",
    "</ul>"
   ]
  },
  {
   "cell_type": "markdown",
   "id": "68e954e2-ceb2-43dc-99fa-9ea0dd205683",
   "metadata": {},
   "source": [
    "<h3>Srategies for aligning target expectations with actual performance trends.</h3>\n",
    "<ol>\n",
    "    <li>For Growth Months(July-18, Nov-18, Mar-19): Increase production and inventory in advance to meeting high demand and can give personalized offers to high value customers</li>\n",
    "    <li>For Stable Growth Months: Maintainn stable supply chain management and experiment with pricing strategies to see if sales can be further optimized.</li>\n",
    "    <li>For Slower Growth Months(Jan-Feb 2019):  Investigate reasons for slowdown like seasonal factors, competition and also launch new product to stimulate demand</li>\n",
    "</ol>"
   ]
  },
  {
   "cell_type": "code",
   "execution_count": null,
   "id": "9bcc09f0-2185-4763-a728-598c4aaea4c7",
   "metadata": {},
   "outputs": [],
   "source": []
  }
 ],
 "metadata": {
  "kernelspec": {
   "display_name": "Python 3 (ipykernel)",
   "language": "python",
   "name": "python3"
  },
  "language_info": {
   "codemirror_mode": {
    "name": "ipython",
    "version": 3
   },
   "file_extension": ".py",
   "mimetype": "text/x-python",
   "name": "python",
   "nbconvert_exporter": "python",
   "pygments_lexer": "ipython3",
   "version": "3.12.7"
  }
 },
 "nbformat": 4,
 "nbformat_minor": 5
}
