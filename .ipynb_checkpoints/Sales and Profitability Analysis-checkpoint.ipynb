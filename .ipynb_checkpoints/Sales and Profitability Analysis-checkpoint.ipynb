{
 "cells": [
  {
   "cell_type": "markdown",
   "id": "1c5559dd-3d7d-4f49-a8d9-0b2dd7fa7b58",
   "metadata": {},
   "source": [
    "<h1>Part 1: Sales and Profitability Analysis</h1>"
   ]
  },
  {
   "cell_type": "code",
   "execution_count": 2,
   "id": "286e6d1b-9d16-44eb-a0ae-79effab20c98",
   "metadata": {},
   "outputs": [],
   "source": [
    "import numpy as np\n",
    "import pandas as pd\n",
    "import seaborn as sns\n",
    "import matplotlib.pyplot as plt"
   ]
  },
  {
   "cell_type": "code",
   "execution_count": 5,
   "id": "7f7cecee-1602-4e2e-9254-d72bac25de00",
   "metadata": {},
   "outputs": [],
   "source": [
    "List_of_Orders = pd.read_csv(\"DATASET/List_of_Orders_55FFC79CF8.csv\")\n",
    "Order_Details = pd.read_csv(\"DATASET/Order_Details_19795F61CF.csv\")"
   ]
  },
  {
   "cell_type": "code",
   "execution_count": 10,
   "id": "15fbd187-83a8-43c2-93e5-80321bed6b8d",
   "metadata": {},
   "outputs": [
    {
     "data": {
      "text/html": [
       "<div>\n",
       "<style scoped>\n",
       "    .dataframe tbody tr th:only-of-type {\n",
       "        vertical-align: middle;\n",
       "    }\n",
       "\n",
       "    .dataframe tbody tr th {\n",
       "        vertical-align: top;\n",
       "    }\n",
       "\n",
       "    .dataframe thead th {\n",
       "        text-align: right;\n",
       "    }\n",
       "</style>\n",
       "<table border=\"1\" class=\"dataframe\">\n",
       "  <thead>\n",
       "    <tr style=\"text-align: right;\">\n",
       "      <th></th>\n",
       "      <th>Order ID</th>\n",
       "      <th>Order Date</th>\n",
       "      <th>CustomerName</th>\n",
       "      <th>State</th>\n",
       "      <th>City</th>\n",
       "    </tr>\n",
       "  </thead>\n",
       "  <tbody>\n",
       "    <tr>\n",
       "      <th>0</th>\n",
       "      <td>B-25601</td>\n",
       "      <td>01-04-2018</td>\n",
       "      <td>Bharat</td>\n",
       "      <td>Gujarat</td>\n",
       "      <td>Ahmedabad</td>\n",
       "    </tr>\n",
       "    <tr>\n",
       "      <th>1</th>\n",
       "      <td>B-25602</td>\n",
       "      <td>01-04-2018</td>\n",
       "      <td>Pearl</td>\n",
       "      <td>Maharashtra</td>\n",
       "      <td>Pune</td>\n",
       "    </tr>\n",
       "    <tr>\n",
       "      <th>2</th>\n",
       "      <td>B-25603</td>\n",
       "      <td>03-04-2018</td>\n",
       "      <td>Jahan</td>\n",
       "      <td>Madhya Pradesh</td>\n",
       "      <td>Bhopal</td>\n",
       "    </tr>\n",
       "    <tr>\n",
       "      <th>3</th>\n",
       "      <td>B-25604</td>\n",
       "      <td>03-04-2018</td>\n",
       "      <td>Divsha</td>\n",
       "      <td>Rajasthan</td>\n",
       "      <td>Jaipur</td>\n",
       "    </tr>\n",
       "    <tr>\n",
       "      <th>4</th>\n",
       "      <td>B-25605</td>\n",
       "      <td>05-04-2018</td>\n",
       "      <td>Kasheen</td>\n",
       "      <td>West Bengal</td>\n",
       "      <td>Kolkata</td>\n",
       "    </tr>\n",
       "  </tbody>\n",
       "</table>\n",
       "</div>"
      ],
      "text/plain": [
       "  Order ID  Order Date CustomerName           State       City\n",
       "0  B-25601  01-04-2018       Bharat         Gujarat  Ahmedabad\n",
       "1  B-25602  01-04-2018        Pearl     Maharashtra       Pune\n",
       "2  B-25603  03-04-2018        Jahan  Madhya Pradesh     Bhopal\n",
       "3  B-25604  03-04-2018       Divsha       Rajasthan     Jaipur\n",
       "4  B-25605  05-04-2018      Kasheen     West Bengal    Kolkata"
      ]
     },
     "execution_count": 10,
     "metadata": {},
     "output_type": "execute_result"
    }
   ],
   "source": [
    "List_of_Orders.head()"
   ]
  },
  {
   "cell_type": "code",
   "execution_count": 11,
   "id": "0f9d929d-07a7-4be1-94f7-47c30e586927",
   "metadata": {},
   "outputs": [
    {
     "data": {
      "text/html": [
       "<div>\n",
       "<style scoped>\n",
       "    .dataframe tbody tr th:only-of-type {\n",
       "        vertical-align: middle;\n",
       "    }\n",
       "\n",
       "    .dataframe tbody tr th {\n",
       "        vertical-align: top;\n",
       "    }\n",
       "\n",
       "    .dataframe thead th {\n",
       "        text-align: right;\n",
       "    }\n",
       "</style>\n",
       "<table border=\"1\" class=\"dataframe\">\n",
       "  <thead>\n",
       "    <tr style=\"text-align: right;\">\n",
       "      <th></th>\n",
       "      <th>Order ID</th>\n",
       "      <th>Amount</th>\n",
       "      <th>Profit</th>\n",
       "      <th>Quantity</th>\n",
       "      <th>Category</th>\n",
       "      <th>Sub-Category</th>\n",
       "    </tr>\n",
       "  </thead>\n",
       "  <tbody>\n",
       "    <tr>\n",
       "      <th>0</th>\n",
       "      <td>B-25601</td>\n",
       "      <td>1275.0</td>\n",
       "      <td>-1148.0</td>\n",
       "      <td>7</td>\n",
       "      <td>Furniture</td>\n",
       "      <td>Bookcases</td>\n",
       "    </tr>\n",
       "    <tr>\n",
       "      <th>1</th>\n",
       "      <td>B-25601</td>\n",
       "      <td>66.0</td>\n",
       "      <td>-12.0</td>\n",
       "      <td>5</td>\n",
       "      <td>Clothing</td>\n",
       "      <td>Stole</td>\n",
       "    </tr>\n",
       "    <tr>\n",
       "      <th>2</th>\n",
       "      <td>B-25601</td>\n",
       "      <td>8.0</td>\n",
       "      <td>-2.0</td>\n",
       "      <td>3</td>\n",
       "      <td>Clothing</td>\n",
       "      <td>Hankerchief</td>\n",
       "    </tr>\n",
       "    <tr>\n",
       "      <th>3</th>\n",
       "      <td>B-25601</td>\n",
       "      <td>80.0</td>\n",
       "      <td>-56.0</td>\n",
       "      <td>4</td>\n",
       "      <td>Electronics</td>\n",
       "      <td>Electronic Games</td>\n",
       "    </tr>\n",
       "    <tr>\n",
       "      <th>4</th>\n",
       "      <td>B-25602</td>\n",
       "      <td>168.0</td>\n",
       "      <td>-111.0</td>\n",
       "      <td>2</td>\n",
       "      <td>Electronics</td>\n",
       "      <td>Phones</td>\n",
       "    </tr>\n",
       "  </tbody>\n",
       "</table>\n",
       "</div>"
      ],
      "text/plain": [
       "  Order ID  Amount  Profit  Quantity     Category      Sub-Category\n",
       "0  B-25601  1275.0 -1148.0         7    Furniture         Bookcases\n",
       "1  B-25601    66.0   -12.0         5     Clothing             Stole\n",
       "2  B-25601     8.0    -2.0         3     Clothing       Hankerchief\n",
       "3  B-25601    80.0   -56.0         4  Electronics  Electronic Games\n",
       "4  B-25602   168.0  -111.0         2  Electronics            Phones"
      ]
     },
     "execution_count": 11,
     "metadata": {},
     "output_type": "execute_result"
    }
   ],
   "source": [
    "Order_Details.head()"
   ]
  },
  {
   "cell_type": "code",
   "execution_count": 12,
   "id": "4363f249-5906-41e7-968f-9fcc390419b5",
   "metadata": {},
   "outputs": [
    {
     "name": "stdout",
     "output_type": "stream",
     "text": [
      "<class 'pandas.core.frame.DataFrame'>\n",
      "RangeIndex: 560 entries, 0 to 559\n",
      "Data columns (total 5 columns):\n",
      " #   Column        Non-Null Count  Dtype \n",
      "---  ------        --------------  ----- \n",
      " 0   Order ID      500 non-null    object\n",
      " 1   Order Date    500 non-null    object\n",
      " 2   CustomerName  500 non-null    object\n",
      " 3   State         500 non-null    object\n",
      " 4   City          500 non-null    object\n",
      "dtypes: object(5)\n",
      "memory usage: 22.0+ KB\n",
      "<class 'pandas.core.frame.DataFrame'>\n",
      "RangeIndex: 1500 entries, 0 to 1499\n",
      "Data columns (total 6 columns):\n",
      " #   Column        Non-Null Count  Dtype  \n",
      "---  ------        --------------  -----  \n",
      " 0   Order ID      1500 non-null   object \n",
      " 1   Amount        1500 non-null   float64\n",
      " 2   Profit        1500 non-null   float64\n",
      " 3   Quantity      1500 non-null   int64  \n",
      " 4   Category      1500 non-null   object \n",
      " 5   Sub-Category  1500 non-null   object \n",
      "dtypes: float64(2), int64(1), object(3)\n",
      "memory usage: 70.4+ KB\n"
     ]
    }
   ],
   "source": [
    "List_of_Orders.info()\n",
    "Order_Details.info()"
   ]
  },
  {
   "cell_type": "markdown",
   "id": "9d88d518-5313-4b69-90f9-05efedf7631c",
   "metadata": {},
   "source": [
    "<p>There is 500 non-null values in all the column of List_of_Orders table and all the dtypes of columns are also right, therefore no need of data cleaning , and the given dataset is clean dataset</p>\n",
    "<p>There is 1500 non-null values in all the column of Order_Details table and all the dtypes of columns are also right, therefore no need of data cleaning , and the given dataset is clean dataset</p>"
   ]
  },
  {
   "cell_type": "markdown",
   "id": "94933667-4d4e-4cd1-a265-200f7ba8072c",
   "metadata": {},
   "source": [
    "<h3>(a) Merge the List of Orders and Order Details datasets on the basis of Order ID.\n",
    "Calculate the total sales (Amount) for each category across all orders.</h3>"
   ]
  },
  {
   "cell_type": "code",
   "execution_count": 13,
   "id": "453d1640-d484-4ae5-a1d8-bbcd9628aeb7",
   "metadata": {},
   "outputs": [],
   "source": [
    "# Merge the datasets on basis of 'Order ID'\n",
    "merged_df = pd.merge(List_of_Orders, Order_Details, on='Order ID', how='inner')"
   ]
  },
  {
   "cell_type": "code",
   "execution_count": 15,
   "id": "3750079a-d35d-434e-9561-054266fee94a",
   "metadata": {},
   "outputs": [
    {
     "data": {
      "text/html": [
       "<div>\n",
       "<style scoped>\n",
       "    .dataframe tbody tr th:only-of-type {\n",
       "        vertical-align: middle;\n",
       "    }\n",
       "\n",
       "    .dataframe tbody tr th {\n",
       "        vertical-align: top;\n",
       "    }\n",
       "\n",
       "    .dataframe thead th {\n",
       "        text-align: right;\n",
       "    }\n",
       "</style>\n",
       "<table border=\"1\" class=\"dataframe\">\n",
       "  <thead>\n",
       "    <tr style=\"text-align: right;\">\n",
       "      <th></th>\n",
       "      <th>Order ID</th>\n",
       "      <th>Order Date</th>\n",
       "      <th>CustomerName</th>\n",
       "      <th>State</th>\n",
       "      <th>City</th>\n",
       "      <th>Amount</th>\n",
       "      <th>Profit</th>\n",
       "      <th>Quantity</th>\n",
       "      <th>Category</th>\n",
       "      <th>Sub-Category</th>\n",
       "    </tr>\n",
       "  </thead>\n",
       "  <tbody>\n",
       "    <tr>\n",
       "      <th>0</th>\n",
       "      <td>B-25601</td>\n",
       "      <td>01-04-2018</td>\n",
       "      <td>Bharat</td>\n",
       "      <td>Gujarat</td>\n",
       "      <td>Ahmedabad</td>\n",
       "      <td>1275.0</td>\n",
       "      <td>-1148.0</td>\n",
       "      <td>7</td>\n",
       "      <td>Furniture</td>\n",
       "      <td>Bookcases</td>\n",
       "    </tr>\n",
       "    <tr>\n",
       "      <th>1</th>\n",
       "      <td>B-25601</td>\n",
       "      <td>01-04-2018</td>\n",
       "      <td>Bharat</td>\n",
       "      <td>Gujarat</td>\n",
       "      <td>Ahmedabad</td>\n",
       "      <td>66.0</td>\n",
       "      <td>-12.0</td>\n",
       "      <td>5</td>\n",
       "      <td>Clothing</td>\n",
       "      <td>Stole</td>\n",
       "    </tr>\n",
       "    <tr>\n",
       "      <th>2</th>\n",
       "      <td>B-25601</td>\n",
       "      <td>01-04-2018</td>\n",
       "      <td>Bharat</td>\n",
       "      <td>Gujarat</td>\n",
       "      <td>Ahmedabad</td>\n",
       "      <td>8.0</td>\n",
       "      <td>-2.0</td>\n",
       "      <td>3</td>\n",
       "      <td>Clothing</td>\n",
       "      <td>Hankerchief</td>\n",
       "    </tr>\n",
       "    <tr>\n",
       "      <th>3</th>\n",
       "      <td>B-25601</td>\n",
       "      <td>01-04-2018</td>\n",
       "      <td>Bharat</td>\n",
       "      <td>Gujarat</td>\n",
       "      <td>Ahmedabad</td>\n",
       "      <td>80.0</td>\n",
       "      <td>-56.0</td>\n",
       "      <td>4</td>\n",
       "      <td>Electronics</td>\n",
       "      <td>Electronic Games</td>\n",
       "    </tr>\n",
       "    <tr>\n",
       "      <th>4</th>\n",
       "      <td>B-25602</td>\n",
       "      <td>01-04-2018</td>\n",
       "      <td>Pearl</td>\n",
       "      <td>Maharashtra</td>\n",
       "      <td>Pune</td>\n",
       "      <td>168.0</td>\n",
       "      <td>-111.0</td>\n",
       "      <td>2</td>\n",
       "      <td>Electronics</td>\n",
       "      <td>Phones</td>\n",
       "    </tr>\n",
       "  </tbody>\n",
       "</table>\n",
       "</div>"
      ],
      "text/plain": [
       "  Order ID  Order Date CustomerName        State       City  Amount  Profit  \\\n",
       "0  B-25601  01-04-2018       Bharat      Gujarat  Ahmedabad  1275.0 -1148.0   \n",
       "1  B-25601  01-04-2018       Bharat      Gujarat  Ahmedabad    66.0   -12.0   \n",
       "2  B-25601  01-04-2018       Bharat      Gujarat  Ahmedabad     8.0    -2.0   \n",
       "3  B-25601  01-04-2018       Bharat      Gujarat  Ahmedabad    80.0   -56.0   \n",
       "4  B-25602  01-04-2018        Pearl  Maharashtra       Pune   168.0  -111.0   \n",
       "\n",
       "   Quantity     Category      Sub-Category  \n",
       "0         7    Furniture         Bookcases  \n",
       "1         5     Clothing             Stole  \n",
       "2         3     Clothing       Hankerchief  \n",
       "3         4  Electronics  Electronic Games  \n",
       "4         2  Electronics            Phones  "
      ]
     },
     "execution_count": 15,
     "metadata": {},
     "output_type": "execute_result"
    }
   ],
   "source": [
    "merged_df.head()"
   ]
  },
  {
   "cell_type": "code",
   "execution_count": 16,
   "id": "f48190e1-094d-4900-83a9-16677d67059d",
   "metadata": {},
   "outputs": [
    {
     "name": "stdout",
     "output_type": "stream",
     "text": [
      "<class 'pandas.core.frame.DataFrame'>\n",
      "RangeIndex: 1500 entries, 0 to 1499\n",
      "Data columns (total 10 columns):\n",
      " #   Column        Non-Null Count  Dtype  \n",
      "---  ------        --------------  -----  \n",
      " 0   Order ID      1500 non-null   object \n",
      " 1   Order Date    1500 non-null   object \n",
      " 2   CustomerName  1500 non-null   object \n",
      " 3   State         1500 non-null   object \n",
      " 4   City          1500 non-null   object \n",
      " 5   Amount        1500 non-null   float64\n",
      " 6   Profit        1500 non-null   float64\n",
      " 7   Quantity      1500 non-null   int64  \n",
      " 8   Category      1500 non-null   object \n",
      " 9   Sub-Category  1500 non-null   object \n",
      "dtypes: float64(2), int64(1), object(7)\n",
      "memory usage: 117.3+ KB\n"
     ]
    }
   ],
   "source": [
    "merged_df.info()"
   ]
  },
  {
   "cell_type": "code",
   "execution_count": 34,
   "id": "d000363b-fac0-4b37-9118-cc9acf78ad6c",
   "metadata": {},
   "outputs": [],
   "source": [
    "total_sales_by_category = merged_df.groupby('Category')['Amount'].sum().reset_index()"
   ]
  },
  {
   "cell_type": "code",
   "execution_count": 42,
   "id": "1757d0de-5c41-43c5-a9ed-dc173475dc39",
   "metadata": {},
   "outputs": [
    {
     "data": {
      "text/html": [
       "<div>\n",
       "<style scoped>\n",
       "    .dataframe tbody tr th:only-of-type {\n",
       "        vertical-align: middle;\n",
       "    }\n",
       "\n",
       "    .dataframe tbody tr th {\n",
       "        vertical-align: top;\n",
       "    }\n",
       "\n",
       "    .dataframe thead th {\n",
       "        text-align: right;\n",
       "    }\n",
       "</style>\n",
       "<table border=\"1\" class=\"dataframe\">\n",
       "  <thead>\n",
       "    <tr style=\"text-align: right;\">\n",
       "      <th></th>\n",
       "      <th>Category</th>\n",
       "      <th>Amount</th>\n",
       "    </tr>\n",
       "  </thead>\n",
       "  <tbody>\n",
       "    <tr>\n",
       "      <th>0</th>\n",
       "      <td>Clothing</td>\n",
       "      <td>139054.0</td>\n",
       "    </tr>\n",
       "    <tr>\n",
       "      <th>1</th>\n",
       "      <td>Electronics</td>\n",
       "      <td>165267.0</td>\n",
       "    </tr>\n",
       "    <tr>\n",
       "      <th>2</th>\n",
       "      <td>Furniture</td>\n",
       "      <td>127181.0</td>\n",
       "    </tr>\n",
       "  </tbody>\n",
       "</table>\n",
       "</div>"
      ],
      "text/plain": [
       "      Category    Amount\n",
       "0     Clothing  139054.0\n",
       "1  Electronics  165267.0\n",
       "2    Furniture  127181.0"
      ]
     },
     "execution_count": 42,
     "metadata": {},
     "output_type": "execute_result"
    }
   ],
   "source": [
    "total_sales_by_category"
   ]
  },
  {
   "cell_type": "code",
   "execution_count": 44,
   "id": "337e27eb-1859-4b75-9e02-50a6e6a88f4b",
   "metadata": {},
   "outputs": [
    {
     "data": {
      "image/png": "[encoded data removed]",
      "text/plain": [
       "<Figure size 640x480 with 1 Axes>"
      ]
     },
     "metadata": {},
     "output_type": "display_data"
    }
   ],
   "source": [
    "plt.bar(total_sales_by_category[\"Category\"], total_sales_by_category[\"Amount\"], color=['blue', 'green', 'orange'])\n",
    "plt.xlabel(\"Category\")\n",
    "plt.ylabel(\"Values\")\n",
    "plt.title(\"Total sales for each category\")\n",
    "\n",
    "# Add exact values on top of bars\n",
    "for i, v in enumerate(total_sales_by_category[\"Amount\"]):\n",
    "    plt.text(i, v + 2000, f\"{v:,.0f}\", ha='center', fontsize=12, fontweight='bold')\n",
    "\n",
    "# Show the plot\n",
    "plt.show()"
   ]
  },
  {
   "cell_type": "markdown",
   "id": "9dfe6ff1-a6e7-43ed-92d9-d9bcb7bbe136",
   "metadata": {},
   "source": [
    "<p>Conclusion: The total sales for category clothing is 1,39,054 , Electronics is 1,65,267 and furniture is 1,27,181 , therefore Electronics has a highest sales across all the orders, which shows electroics has better market demand</p>"
   ]
  },
  {
   "cell_type": "markdown",
   "id": "02260079-ab22-403b-8710-1f881f7efb1b",
   "metadata": {},
   "source": [
    "<h3>(b) For each category, calculate the average profit per order and total profit margin\n",
    "(profit as a percentage of Amount).</h3>"
   ]
  },
  {
   "cell_type": "code",
   "execution_count": 67,
   "id": "3592dd2c-6584-4c4a-a431-3720a2c49873",
   "metadata": {},
   "outputs": [],
   "source": [
    "category_stats = merged_df.groupby('Category').agg(\n",
    "    Total_Sales=('Amount', 'sum'),\n",
    "    Total_Profit=('Profit', 'sum'),\n",
    "    Order_Count=('Order ID', 'nunique')  #nunique counts unique orders per category\n",
    ").reset_index()"
   ]
  },
  {
   "cell_type": "code",
   "execution_count": 68,
   "id": "37343da0-ed25-4940-9563-340884c3c399",
   "metadata": {},
   "outputs": [
    {
     "data": {
      "text/html": [
       "<div>\n",
       "<style scoped>\n",
       "    .dataframe tbody tr th:only-of-type {\n",
       "        vertical-align: middle;\n",
       "    }\n",
       "\n",
       "    .dataframe tbody tr th {\n",
       "        vertical-align: top;\n",
       "    }\n",
       "\n",
       "    .dataframe thead th {\n",
       "        text-align: right;\n",
       "    }\n",
       "</style>\n",
       "<table border=\"1\" class=\"dataframe\">\n",
       "  <thead>\n",
       "    <tr style=\"text-align: right;\">\n",
       "      <th></th>\n",
       "      <th>Category</th>\n",
       "      <th>Total_Sales</th>\n",
       "      <th>Total_Profit</th>\n",
       "      <th>Order_Count</th>\n",
       "    </tr>\n",
       "  </thead>\n",
       "  <tbody>\n",
       "    <tr>\n",
       "      <th>0</th>\n",
       "      <td>Clothing</td>\n",
       "      <td>139054.0</td>\n",
       "      <td>11163.0</td>\n",
       "      <td>393</td>\n",
       "    </tr>\n",
       "    <tr>\n",
       "      <th>1</th>\n",
       "      <td>Electronics</td>\n",
       "      <td>165267.0</td>\n",
       "      <td>10494.0</td>\n",
       "      <td>204</td>\n",
       "    </tr>\n",
       "    <tr>\n",
       "      <th>2</th>\n",
       "      <td>Furniture</td>\n",
       "      <td>127181.0</td>\n",
       "      <td>2298.0</td>\n",
       "      <td>186</td>\n",
       "    </tr>\n",
       "  </tbody>\n",
       "</table>\n",
       "</div>"
      ],
      "text/plain": [
       "      Category  Total_Sales  Total_Profit  Order_Count\n",
       "0     Clothing     139054.0       11163.0          393\n",
       "1  Electronics     165267.0       10494.0          204\n",
       "2    Furniture     127181.0        2298.0          186"
      ]
     },
     "execution_count": 68,
     "metadata": {},
     "output_type": "execute_result"
    }
   ],
   "source": [
    "category_stats"
   ]
  },
  {
   "cell_type": "code",
   "execution_count": 72,
   "id": "aaf4f042-232e-4147-b197-f03eb44d0725",
   "metadata": {},
   "outputs": [],
   "source": [
    "# calculateing Average Profit per Order\n",
    "category_stats['Avg_Profit_Per_Order'] = category_stats['Total_Profit'] / category_stats['Order_Count']\n",
    "\n",
    "# calculateing Total Profit Margin(%)\n",
    "category_stats['Profit_Margin(%)'] = (category_stats['Total_Profit'] / category_stats['Total_Sales']) * 100\n"
   ]
  },
  {
   "cell_type": "code",
   "execution_count": 73,
   "id": "55920a47-ca0c-433b-9971-7073c017f96c",
   "metadata": {},
   "outputs": [
    {
     "data": {
      "text/html": [
       "<div>\n",
       "<style scoped>\n",
       "    .dataframe tbody tr th:only-of-type {\n",
       "        vertical-align: middle;\n",
       "    }\n",
       "\n",
       "    .dataframe tbody tr th {\n",
       "        vertical-align: top;\n",
       "    }\n",
       "\n",
       "    .dataframe thead th {\n",
       "        text-align: right;\n",
       "    }\n",
       "</style>\n",
       "<table border=\"1\" class=\"dataframe\">\n",
       "  <thead>\n",
       "    <tr style=\"text-align: right;\">\n",
       "      <th></th>\n",
       "      <th>Category</th>\n",
       "      <th>Total_Sales</th>\n",
       "      <th>Total_Profit</th>\n",
       "      <th>Order_Count</th>\n",
       "      <th>Avg_Profit_Per_Order</th>\n",
       "      <th>Profit_Margin(%)</th>\n",
       "    </tr>\n",
       "  </thead>\n",
       "  <tbody>\n",
       "    <tr>\n",
       "      <th>0</th>\n",
       "      <td>Clothing</td>\n",
       "      <td>139054.0</td>\n",
       "      <td>11163.0</td>\n",
       "      <td>393</td>\n",
       "      <td>28.404580</td>\n",
       "      <td>8.027817</td>\n",
       "    </tr>\n",
       "    <tr>\n",
       "      <th>1</th>\n",
       "      <td>Electronics</td>\n",
       "      <td>165267.0</td>\n",
       "      <td>10494.0</td>\n",
       "      <td>204</td>\n",
       "      <td>51.441176</td>\n",
       "      <td>6.349725</td>\n",
       "    </tr>\n",
       "    <tr>\n",
       "      <th>2</th>\n",
       "      <td>Furniture</td>\n",
       "      <td>127181.0</td>\n",
       "      <td>2298.0</td>\n",
       "      <td>186</td>\n",
       "      <td>12.354839</td>\n",
       "      <td>1.806874</td>\n",
       "    </tr>\n",
       "  </tbody>\n",
       "</table>\n",
       "</div>"
      ],
      "text/plain": [
       "      Category  Total_Sales  Total_Profit  Order_Count  Avg_Profit_Per_Order  \\\n",
       "0     Clothing     139054.0       11163.0          393             28.404580   \n",
       "1  Electronics     165267.0       10494.0          204             51.441176   \n",
       "2    Furniture     127181.0        2298.0          186             12.354839   \n",
       "\n",
       "   Profit_Margin(%)  \n",
       "0          8.027817  \n",
       "1          6.349725  \n",
       "2          1.806874  "
      ]
     },
     "execution_count": 73,
     "metadata": {},
     "output_type": "execute_result"
    }
   ],
   "source": [
    "category_stats"
   ]
  },
  {
   "cell_type": "code",
   "execution_count": 74,
   "id": "559d88a0-769a-4013-a7b6-4d84782d9b9d",
   "metadata": {},
   "outputs": [
    {
     "data": {
      "image/png": "[encoded data removed]",
      "text/plain": [
       "<Figure size 640x480 with 1 Axes>"
      ]
     },
     "metadata": {},
     "output_type": "display_data"
    }
   ],
   "source": [
    "plt.bar(category_stats[\"Category\"], category_stats[\"Avg_Profit_Per_Order\"], color=['blue', 'green', 'orange'])\n",
    "plt.xlabel(\"Category\")\n",
    "plt.ylabel(\"Values\")\n",
    "plt.title(\"Avg Profit Per Order for each category\")\n",
    "\n",
    "for i, v in enumerate(category_stats[\"Avg_Profit_Per_Order\"]):\n",
    "    plt.text(i, v, f\"{v:,.0f}\", ha='center', fontsize=12, fontweight='bold')\n",
    "\n",
    "plt.show()"
   ]
  },
  {
   "cell_type": "markdown",
   "id": "386da795-0bfd-4de1-a663-2897dc6ca2c8",
   "metadata": {},
   "source": [
    "<p>Conclusion: The avg profit per order for clothing is 28, electronics is 51 and furniture is 12, it shows that electronics has highest sales as well as electronics has highest avg profit per order</p>"
   ]
  },
  {
   "cell_type": "code",
   "execution_count": 76,
   "id": "57574c4c-fb8c-4ee8-ac21-f5171fa67a35",
   "metadata": {},
   "outputs": [
    {
     "data": {
      "image/png": "[encoded data removed]",
      "text/plain": [
       "<Figure size 640x480 with 1 Axes>"
      ]
     },
     "metadata": {},
     "output_type": "display_data"
    }
   ],
   "source": [
    "plt.bar(category_stats[\"Category\"], category_stats[\"Profit_Margin(%)\"], color=['blue', 'green', 'orange'])\n",
    "plt.xlabel(\"Category\")\n",
    "plt.ylabel(\"Values(%)\")\n",
    "plt.title(\"Total profit margin for each category\")\n",
    "\n",
    "for i, v in enumerate(category_stats[\"Profit_Margin(%)\"]):\n",
    "    plt.text(i, v, f\"{v:,.0f}\", ha='center', fontsize=12, fontweight='bold')\n",
    "\n",
    "plt.show()"
   ]
  },
  {
   "cell_type": "markdown",
   "id": "d40306ff-0996-4860-a406-a9c7984d994f",
   "metadata": {},
   "source": [
    "<P>Conclusion: The total profit margin for clothing is 8%, electronics is 6% and furniture is %2, it shows that electronics has highest sales as well as highest avg profit per order but the highest profit is coming for clothing</P>"
   ]
  },
  {
   "cell_type": "markdown",
   "id": "a6955a62-042f-4263-bd00-a724cc5af05c",
   "metadata": {},
   "source": [
    "<h3>(c) Identify the top-performing and underperforming categories based on these\n",
    "metrics. Also, suggest reasons for their performance differences.</h3>"
   ]
  },
  {
   "cell_type": "code",
   "execution_count": 86,
   "id": "3ad28650-a5a4-4dad-ad3d-92c5afe2d31f",
   "metadata": {},
   "outputs": [
    {
     "data": {
      "text/html": [
       "<div>\n",
       "<style scoped>\n",
       "    .dataframe tbody tr th:only-of-type {\n",
       "        vertical-align: middle;\n",
       "    }\n",
       "\n",
       "    .dataframe tbody tr th {\n",
       "        vertical-align: top;\n",
       "    }\n",
       "\n",
       "    .dataframe thead th {\n",
       "        text-align: right;\n",
       "    }\n",
       "</style>\n",
       "<table border=\"1\" class=\"dataframe\">\n",
       "  <thead>\n",
       "    <tr style=\"text-align: right;\">\n",
       "      <th></th>\n",
       "      <th>Category</th>\n",
       "      <th>Total_Sales</th>\n",
       "      <th>Total_Profit</th>\n",
       "      <th>Order_Count</th>\n",
       "      <th>Avg_Profit_Per_Order</th>\n",
       "      <th>Profit_Margin(%)</th>\n",
       "    </tr>\n",
       "  </thead>\n",
       "  <tbody>\n",
       "    <tr>\n",
       "      <th>0</th>\n",
       "      <td>Clothing</td>\n",
       "      <td>139054.0</td>\n",
       "      <td>11163.0</td>\n",
       "      <td>393</td>\n",
       "      <td>28.40458</td>\n",
       "      <td>8.027817</td>\n",
       "    </tr>\n",
       "  </tbody>\n",
       "</table>\n",
       "</div>"
      ],
      "text/plain": [
       "   Category  Total_Sales  Total_Profit  Order_Count  Avg_Profit_Per_Order  \\\n",
       "0  Clothing     139054.0       11163.0          393              28.40458   \n",
       "\n",
       "   Profit_Margin(%)  \n",
       "0          8.027817  "
      ]
     },
     "execution_count": 86,
     "metadata": {},
     "output_type": "execute_result"
    }
   ],
   "source": [
    "top_performing = category_stats.sort_values(by='Profit_Margin(%)', ascending=False).head(1) \n",
    "under_performing = category_stats.sort_values(by='Profit_Margin(%)').head(1)\n",
    "\n",
    "top_performing\n"
   ]
  },
  {
   "cell_type": "code",
   "execution_count": 87,
   "id": "8acb7d0a-f327-4dbc-be8b-f500d855fe29",
   "metadata": {},
   "outputs": [
    {
     "data": {
      "text/html": [
       "<div>\n",
       "<style scoped>\n",
       "    .dataframe tbody tr th:only-of-type {\n",
       "        vertical-align: middle;\n",
       "    }\n",
       "\n",
       "    .dataframe tbody tr th {\n",
       "        vertical-align: top;\n",
       "    }\n",
       "\n",
       "    .dataframe thead th {\n",
       "        text-align: right;\n",
       "    }\n",
       "</style>\n",
       "<table border=\"1\" class=\"dataframe\">\n",
       "  <thead>\n",
       "    <tr style=\"text-align: right;\">\n",
       "      <th></th>\n",
       "      <th>Category</th>\n",
       "      <th>Total_Sales</th>\n",
       "      <th>Total_Profit</th>\n",
       "      <th>Order_Count</th>\n",
       "      <th>Avg_Profit_Per_Order</th>\n",
       "      <th>Profit_Margin(%)</th>\n",
       "    </tr>\n",
       "  </thead>\n",
       "  <tbody>\n",
       "    <tr>\n",
       "      <th>2</th>\n",
       "      <td>Furniture</td>\n",
       "      <td>127181.0</td>\n",
       "      <td>2298.0</td>\n",
       "      <td>186</td>\n",
       "      <td>12.354839</td>\n",
       "      <td>1.806874</td>\n",
       "    </tr>\n",
       "  </tbody>\n",
       "</table>\n",
       "</div>"
      ],
      "text/plain": [
       "    Category  Total_Sales  Total_Profit  Order_Count  Avg_Profit_Per_Order  \\\n",
       "2  Furniture     127181.0        2298.0          186             12.354839   \n",
       "\n",
       "   Profit_Margin(%)  \n",
       "2          1.806874  "
      ]
     },
     "execution_count": 87,
     "metadata": {},
     "output_type": "execute_result"
    }
   ],
   "source": [
    "under_performing"
   ]
  },
  {
   "cell_type": "markdown",
   "id": "0e19ff59-a3d1-414b-9b80-3643cb9264f0",
   "metadata": {},
   "source": [
    "<h4>Possible Reasons for Top Performance Category(Clothing)</h4>\n",
    "<ul>\n",
    "    <li>Clothing may have premimum prodcuts that leads to higher prices.</li>\n",
    "    <li>Clothings have less logistic rates and modrate return rate, which gives high profit margin.</li>\n",
    "    <li>Higher customer demand because it has varitey of styles and different types fabrics that lead to strong performance</li>\n",
    "</ul>"
   ]
  },
  {
   "cell_type": "markdown",
   "id": "900ec7c8-f56f-4292-beab-94e84568c5e8",
   "metadata": {},
   "source": [
    "<h4>Possible Reasons for Under Performance Category(Furniture)</h4>\n",
    "<ul>\n",
    "    <li>In furniture damaged inventory may leads to loss</li>\n",
    "    <li>Seasonal discounts like daasera, diwali reduces profit margin.</li>\n",
    "    <li>Logistics cost is high for bulky furintures which gives less profit margins.</li>\n",
    "</ul>"
   ]
  }
 ],
 "metadata": {
  "kernelspec": {
   "display_name": "Python 3 (ipykernel)",
   "language": "python",
   "name": "python3"
  },
  "language_info": {
   "codemirror_mode": {
    "name": "ipython",
    "version": 3
   },
   "file_extension": ".py",
   "mimetype": "text/x-python",
   "name": "python",
   "nbconvert_exporter": "python",
   "pygments_lexer": "ipython3",
   "version": "3.12.7"
  }
 },
 "nbformat": 4,
 "nbformat_minor": 5
}
